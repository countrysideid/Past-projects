{
 "cells": [
  {
   "cell_type": "code",
   "execution_count": 1,
   "metadata": {
    "collapsed": false,
    "scrolled": true
   },
   "outputs": [
    {
     "name": "stderr",
     "output_type": "stream",
     "text": [
      "C:\\Users\\frank\\Anaconda2\\lib\\site-packages\\sklearn\\cross_validation.py:41: DeprecationWarning: This module was deprecated in version 0.18 in favor of the model_selection module into which all the refactored classes and functions are moved. Also note that the interface of the new CV iterators are different from that of this module. This module will be removed in 0.20.\n",
      "  \"This module will be removed in 0.20.\", DeprecationWarning)\n"
     ]
    }
   ],
   "source": [
    "%matplotlib inline\n",
    "import os\n",
    "import pandas as pd\n",
    "import numpy as np\n",
    "from sklearn.preprocessing import LabelEncoder\n",
    "from sklearn import metrics\n",
    "from __future__ import division\n",
    "import copy\n",
    "from scipy.stats import chi2_contingency\n",
    "from sklearn.metrics.cluster import normalized_mutual_info_score\n",
    "from sklearn.cross_validation import train_test_split\n",
    "from sklearn.tree import DecisionTreeClassifier, export_graphviz\n",
    "from sklearn.metrics import accuracy_score\n",
    "from sklearn import tree\n",
    "#from numpy.ndarray import *\n",
    "import graphviz \n",
    "import matplotlib.pyplot as plt\n",
    "from sklearn.cross_validation import cross_val_score\n",
    "import datetime as dt\n",
    "import string\n",
    "import sklearn\n",
    "from sklearn.model_selection import train_test_split\n",
    "from sklearn.ensemble import RandomForestClassifier\n",
    "from sklearn import svm\n"
   ]
  },
  {
   "cell_type": "markdown",
   "metadata": {},
   "source": [
    "# Read data"
   ]
  },
  {
   "cell_type": "code",
   "execution_count": 2,
   "metadata": {
    "collapsed": false
   },
   "outputs": [],
   "source": [
    "complaint = pd.read_csv('E:/New folder/Consumer_Complaints.csv')\n",
    "test = pd.read_csv('E:/New folder/test_set.csv', header = None, names= ['ID', 'Complaint ID'])"
   ]
  },
  {
   "cell_type": "code",
   "execution_count": 3,
   "metadata": {
    "collapsed": false,
    "scrolled": false
   },
   "outputs": [
    {
     "data": {
      "text/plain": [
       "(837344, 18)"
      ]
     },
     "execution_count": 3,
     "metadata": {},
     "output_type": "execute_result"
    }
   ],
   "source": [
    "df = complaint.copy()\n",
    "df.shape #check each variable's type\n"
   ]
  },
  {
   "cell_type": "markdown",
   "metadata": {},
   "source": [
    "# Preprocess Data\n",
    "\n"
   ]
  },
  {
   "cell_type": "markdown",
   "metadata": {},
   "source": [
    "## 1. Missing data manipulation"
   ]
  },
  {
   "cell_type": "code",
   "execution_count": 4,
   "metadata": {
    "collapsed": false,
    "scrolled": false
   },
   "outputs": [
    {
     "data": {
      "text/plain": [
       "[(0.0, 'Date received'),\n",
       " (0.0, 'Product'),\n",
       " (0.28082962318951349, 'Sub-product'),\n",
       " (0.0, 'Issue'),\n",
       " (0.55746980930179235, 'Sub-issue'),\n",
       " (0.78918819505484006, 'Consumer complaint narrative'),\n",
       " (0.72776660488401423, 'Company public response'),\n",
       " (0.0, 'Company'),\n",
       " (0.011956854052814613, 'State'),\n",
       " (0.012002235640310315, 'ZIP code'),\n",
       " (0.85991539916688964, 'Tags'),\n",
       " (0.60855753429892612, 'Consumer consent provided?'),\n",
       " (0.0, 'Submitted via'),\n",
       " (0.0, 'Date sent to company'),\n",
       " (0.0, 'Company response to consumer'),\n",
       " (0.0, 'Timely response?'),\n",
       " (0.082184860702411433, 'Consumer disputed?'),\n",
       " (0.0, 'Complaint ID')]"
      ]
     },
     "execution_count": 4,
     "metadata": {},
     "output_type": "execute_result"
    }
   ],
   "source": [
    "#checking missing values\n",
    "[(np.sum(df.iloc[:,i].isnull())/df.shape[0],df.columns[i])\n",
    " for i in range(df.shape[1])]"
   ]
  },
  {
   "cell_type": "code",
   "execution_count": 190,
   "metadata": {
    "collapsed": false
   },
   "outputs": [
    {
     "data": {
      "text/plain": [
       "(837344, 18)"
      ]
     },
     "execution_count": 190,
     "metadata": {},
     "output_type": "execute_result"
    }
   ],
   "source": [
    "df2 = df.copy()\n",
    "df2.shape"
   ]
  },
  {
   "cell_type": "code",
   "execution_count": 191,
   "metadata": {
    "collapsed": false
   },
   "outputs": [],
   "source": [
    "#Variables with more than 50% missing variables will be deleted. Therefore, Sub-issue, \n",
    "#Consumer complaint narrative, Company public response, Tags, and Consumer consent provided? Will be removed. \n",
    "#Complain ID will be removed because it does not significant in this study.\n",
    "\n",
    "df2.drop(['Sub-issue', 'Consumer complaint narrative','Company public response','Tags','Consumer consent provided?'], axis=1, inplace=True)"
   ]
  },
  {
   "cell_type": "code",
   "execution_count": 192,
   "metadata": {
    "collapsed": true
   },
   "outputs": [],
   "source": [
    "#\"consumer consent provided\", \"company response to consumer\", \"consumer disputed\" happend after consumer responds \n",
    "#and are removed from analysis\n",
    "df2.drop(['Company response to consumer', 'Consumer disputed?'], axis=1, inplace=True)"
   ]
  },
  {
   "cell_type": "code",
   "execution_count": 193,
   "metadata": {
    "collapsed": false,
    "scrolled": true
   },
   "outputs": [],
   "source": [
    "#Observations missing State, ZIP code Are removed.\n",
    "df2 = df2 [ -pd.isnull(df2.loc[:,'State'])] #remove missing obs in  State?\n",
    "df2 = df2 [ -pd.isnull(df2.loc[:,'ZIP code'])] #remove missing obs in ZIP code"
   ]
  },
  {
   "cell_type": "markdown",
   "metadata": {},
   "source": [
    "## 2. Rename variables"
   ]
  },
  {
   "cell_type": "code",
   "execution_count": 194,
   "metadata": {
    "collapsed": false
   },
   "outputs": [],
   "source": [
    "#rename df2\n",
    "df2 =  df2.rename(index=str, columns={\"Date received\": \"Date_re\", \"ZIP code\": \"Zip\", \"Submitted via\": \"Submitted\", \n",
    "                               \"Date sent to company\": \"Date_sent\", \"Timely response?\": \"Timely_response\", \"Sub-product\":'Subproduct'})"
   ]
  },
  {
   "cell_type": "markdown",
   "metadata": {},
   "source": [
    "## 3. Convert variables"
   ]
  },
  {
   "cell_type": "markdown",
   "metadata": {},
   "source": [
    "convert date to weekday"
   ]
  },
  {
   "cell_type": "code",
   "execution_count": 195,
   "metadata": {
    "collapsed": false
   },
   "outputs": [],
   "source": [
    "date_re = pd.Series([dt.date.weekday(dt.datetime.strptime(i, \"%m/%d/%Y\").date()) for i in df2.Date_re])\n",
    "date_sent = pd.Series([dt.date.weekday(dt.datetime.strptime(i, \"%m/%d/%Y\").date()) for i in df2.Date_sent])\n",
    "\n",
    "df2.Date_re = date_re.values\n",
    "df2.Date_sent = date_sent.values"
   ]
  },
  {
   "cell_type": "code",
   "execution_count": 196,
   "metadata": {
    "collapsed": false,
    "scrolled": true
   },
   "outputs": [
    {
     "data": {
      "text/html": [
       "<div>\n",
       "<style>\n",
       "    .dataframe thead tr:only-child th {\n",
       "        text-align: right;\n",
       "    }\n",
       "\n",
       "    .dataframe thead th {\n",
       "        text-align: left;\n",
       "    }\n",
       "\n",
       "    .dataframe tbody tr th {\n",
       "        vertical-align: top;\n",
       "    }\n",
       "</style>\n",
       "<table border=\"1\" class=\"dataframe\">\n",
       "  <thead>\n",
       "    <tr style=\"text-align: right;\">\n",
       "      <th></th>\n",
       "      <th>Date_re</th>\n",
       "      <th>Product</th>\n",
       "      <th>Subproduct</th>\n",
       "      <th>Issue</th>\n",
       "      <th>Company</th>\n",
       "      <th>State</th>\n",
       "      <th>Zip</th>\n",
       "      <th>Submitted</th>\n",
       "      <th>Date_sent</th>\n",
       "      <th>Timely_response</th>\n",
       "      <th>Complaint ID</th>\n",
       "    </tr>\n",
       "  </thead>\n",
       "  <tbody>\n",
       "    <tr>\n",
       "      <th>0</th>\n",
       "      <td>2</td>\n",
       "      <td>Mortgage</td>\n",
       "      <td>Other mortgage</td>\n",
       "      <td>Loan modification,collection,foreclosure</td>\n",
       "      <td>M&amp;T BANK CORPORATION</td>\n",
       "      <td>MI</td>\n",
       "      <td>48382</td>\n",
       "      <td>Referral</td>\n",
       "      <td>0</td>\n",
       "      <td>Yes</td>\n",
       "      <td>759217</td>\n",
       "    </tr>\n",
       "    <tr>\n",
       "      <th>1</th>\n",
       "      <td>5</td>\n",
       "      <td>Credit reporting</td>\n",
       "      <td>NaN</td>\n",
       "      <td>Incorrect information on credit report</td>\n",
       "      <td>TRANSUNION INTERMEDIATE HOLDINGS, INC.</td>\n",
       "      <td>AL</td>\n",
       "      <td>352XX</td>\n",
       "      <td>Web</td>\n",
       "      <td>2</td>\n",
       "      <td>Yes</td>\n",
       "      <td>2141773</td>\n",
       "    </tr>\n",
       "    <tr>\n",
       "      <th>2</th>\n",
       "      <td>0</td>\n",
       "      <td>Consumer Loan</td>\n",
       "      <td>Vehicle loan</td>\n",
       "      <td>Managing the loan or lease</td>\n",
       "      <td>CITIZENS FINANCIAL GROUP, INC.</td>\n",
       "      <td>PA</td>\n",
       "      <td>177XX</td>\n",
       "      <td>Web</td>\n",
       "      <td>3</td>\n",
       "      <td>Yes</td>\n",
       "      <td>2163100</td>\n",
       "    </tr>\n",
       "    <tr>\n",
       "      <th>3</th>\n",
       "      <td>6</td>\n",
       "      <td>Credit card</td>\n",
       "      <td>NaN</td>\n",
       "      <td>Bankruptcy</td>\n",
       "      <td>AMERICAN EXPRESS COMPANY</td>\n",
       "      <td>ID</td>\n",
       "      <td>83854</td>\n",
       "      <td>Web</td>\n",
       "      <td>1</td>\n",
       "      <td>Yes</td>\n",
       "      <td>885638</td>\n",
       "    </tr>\n",
       "    <tr>\n",
       "      <th>4</th>\n",
       "      <td>5</td>\n",
       "      <td>Debt collection</td>\n",
       "      <td>Credit card</td>\n",
       "      <td>Communication tactics</td>\n",
       "      <td>CITIBANK, N.A.</td>\n",
       "      <td>VA</td>\n",
       "      <td>23233</td>\n",
       "      <td>Web</td>\n",
       "      <td>5</td>\n",
       "      <td>Yes</td>\n",
       "      <td>1027760</td>\n",
       "    </tr>\n",
       "  </tbody>\n",
       "</table>\n",
       "</div>"
      ],
      "text/plain": [
       "   Date_re           Product      Subproduct  \\\n",
       "0        2          Mortgage  Other mortgage   \n",
       "1        5  Credit reporting             NaN   \n",
       "2        0     Consumer Loan    Vehicle loan   \n",
       "3        6       Credit card             NaN   \n",
       "4        5   Debt collection     Credit card   \n",
       "\n",
       "                                      Issue  \\\n",
       "0  Loan modification,collection,foreclosure   \n",
       "1    Incorrect information on credit report   \n",
       "2                Managing the loan or lease   \n",
       "3                                Bankruptcy   \n",
       "4                     Communication tactics   \n",
       "\n",
       "                                  Company State    Zip Submitted  Date_sent  \\\n",
       "0                    M&T BANK CORPORATION    MI  48382  Referral          0   \n",
       "1  TRANSUNION INTERMEDIATE HOLDINGS, INC.    AL  352XX       Web          2   \n",
       "2          CITIZENS FINANCIAL GROUP, INC.    PA  177XX       Web          3   \n",
       "3                AMERICAN EXPRESS COMPANY    ID  83854       Web          1   \n",
       "4                          CITIBANK, N.A.    VA  23233       Web          5   \n",
       "\n",
       "  Timely_response  Complaint ID  \n",
       "0             Yes        759217  \n",
       "1             Yes       2141773  \n",
       "2             Yes       2163100  \n",
       "3             Yes        885638  \n",
       "4             Yes       1027760  "
      ]
     },
     "execution_count": 196,
     "metadata": {},
     "output_type": "execute_result"
    }
   ],
   "source": [
    "df2.head()"
   ]
  },
  {
   "cell_type": "code",
   "execution_count": 197,
   "metadata": {
    "collapsed": false
   },
   "outputs": [
    {
     "name": "stdout",
     "output_type": "stream",
     "text": [
      "crosstab dependent var vs. date diff\n"
     ]
    },
    {
     "data": {
      "text/html": [
       "<div>\n",
       "<style>\n",
       "    .dataframe thead tr:only-child th {\n",
       "        text-align: right;\n",
       "    }\n",
       "\n",
       "    .dataframe thead th {\n",
       "        text-align: left;\n",
       "    }\n",
       "\n",
       "    .dataframe tbody tr th {\n",
       "        vertical-align: top;\n",
       "    }\n",
       "</style>\n",
       "<table border=\"1\" class=\"dataframe\">\n",
       "  <thead>\n",
       "    <tr style=\"text-align: right;\">\n",
       "      <th>Timely_response</th>\n",
       "      <th>No</th>\n",
       "      <th>Yes</th>\n",
       "    </tr>\n",
       "    <tr>\n",
       "      <th>row_0</th>\n",
       "      <th></th>\n",
       "      <th></th>\n",
       "    </tr>\n",
       "  </thead>\n",
       "  <tbody>\n",
       "    <tr>\n",
       "      <th>-6</th>\n",
       "      <td>25</td>\n",
       "      <td>1004</td>\n",
       "    </tr>\n",
       "    <tr>\n",
       "      <th>-5</th>\n",
       "      <td>53</td>\n",
       "      <td>740</td>\n",
       "    </tr>\n",
       "    <tr>\n",
       "      <th>-4</th>\n",
       "      <td>382</td>\n",
       "      <td>7718</td>\n",
       "    </tr>\n",
       "    <tr>\n",
       "      <th>-3</th>\n",
       "      <td>1160</td>\n",
       "      <td>27972</td>\n",
       "    </tr>\n",
       "    <tr>\n",
       "      <th>-2</th>\n",
       "      <td>1949</td>\n",
       "      <td>59123</td>\n",
       "    </tr>\n",
       "    <tr>\n",
       "      <th>-1</th>\n",
       "      <td>2695</td>\n",
       "      <td>99630</td>\n",
       "    </tr>\n",
       "    <tr>\n",
       "      <th>0</th>\n",
       "      <td>11874</td>\n",
       "      <td>434710</td>\n",
       "    </tr>\n",
       "    <tr>\n",
       "      <th>1</th>\n",
       "      <td>1443</td>\n",
       "      <td>42986</td>\n",
       "    </tr>\n",
       "    <tr>\n",
       "      <th>2</th>\n",
       "      <td>1499</td>\n",
       "      <td>46105</td>\n",
       "    </tr>\n",
       "    <tr>\n",
       "      <th>3</th>\n",
       "      <td>1210</td>\n",
       "      <td>43647</td>\n",
       "    </tr>\n",
       "    <tr>\n",
       "      <th>4</th>\n",
       "      <td>630</td>\n",
       "      <td>26947</td>\n",
       "    </tr>\n",
       "    <tr>\n",
       "      <th>5</th>\n",
       "      <td>196</td>\n",
       "      <td>9102</td>\n",
       "    </tr>\n",
       "    <tr>\n",
       "      <th>6</th>\n",
       "      <td>99</td>\n",
       "      <td>4394</td>\n",
       "    </tr>\n",
       "  </tbody>\n",
       "</table>\n",
       "</div>"
      ],
      "text/plain": [
       "Timely_response     No     Yes\n",
       "row_0                         \n",
       "-6                  25    1004\n",
       "-5                  53     740\n",
       "-4                 382    7718\n",
       "-3                1160   27972\n",
       "-2                1949   59123\n",
       "-1                2695   99630\n",
       " 0               11874  434710\n",
       " 1                1443   42986\n",
       " 2                1499   46105\n",
       " 3                1210   43647\n",
       " 4                 630   26947\n",
       " 5                 196    9102\n",
       " 6                  99    4394"
      ]
     },
     "execution_count": 197,
     "metadata": {},
     "output_type": "execute_result"
    }
   ],
   "source": [
    "diff = df2.loc[:,'Date_re'] - df2.loc[:,'Date_sent']\n",
    "print ('crosstab dependent var vs. date diff')\n",
    "pd.crosstab(diff, df2.Timely_response)"
   ]
  },
  {
   "cell_type": "code",
   "execution_count": 198,
   "metadata": {
    "collapsed": false
   },
   "outputs": [],
   "source": [
    "#calculate date diff\n",
    "df2.Date_diff = diff\n",
    "df2 = df2.drop(['Date_re','Date_sent'],axis=1)"
   ]
  },
  {
   "cell_type": "code",
   "execution_count": 199,
   "metadata": {
    "collapsed": false,
    "scrolled": true
   },
   "outputs": [
    {
     "name": "stdout",
     "output_type": "stream",
     "text": [
      "crosstab dependent var vs. product\n"
     ]
    },
    {
     "data": {
      "text/plain": [
       "Product\n",
       "Bank account or service                                                          -5875\n",
       "Checking or savings account                                                      -2596\n",
       "Consumer Loan                                                                    13358\n",
       "Credit card                                                                     -53371\n",
       "Credit card or prepaid card                                                      -4821\n",
       "Credit reporting                                                               -129183\n",
       "Credit reporting, credit repair services, or other personal consumer reports     -1111\n",
       "Debt collection                                                                 250988\n",
       "Money transfer, virtual currency, or money service                                -466\n",
       "Money transfers                                                                     -6\n",
       "Mortgage                                                                        -58689\n",
       "Other financial service                                                           2998\n",
       "Payday loan                                                                      16146\n",
       "Payday loan, title loan, or personal loan                                         1366\n",
       "Prepaid card                                                                     -2010\n",
       "Student loan                                                                    -19047\n",
       "Vehicle loan or lease                                                              711\n",
       "Virtual currency                                                                    55\n",
       "dtype: int64"
      ]
     },
     "execution_count": 199,
     "metadata": {},
     "output_type": "execute_result"
    }
   ],
   "source": [
    "print ('crosstab dependent var vs. product')\n",
    "pd.crosstab(df2.Product, df2.Timely_response).iloc[:,0] * 35 - pd.crosstab(df2.Product, df2.Timely_response).iloc[:,1]"
   ]
  },
  {
   "cell_type": "markdown",
   "metadata": {},
   "source": [
    "Recode product, categorized depending on their frequency"
   ]
  },
  {
   "cell_type": "code",
   "execution_count": 200,
   "metadata": {
    "collapsed": false,
    "scrolled": true
   },
   "outputs": [],
   "source": [
    "df2.loc[(df2['Product'].notnull()) & (df2['Product'].str.contains('Consumer Loan')), 'Product'] = 'LOAN'\n",
    "df2.loc[(df2['Product'].notnull()) & (df2['Product'].str.contains('Debt collection')), 'Product'] = 'LOAN'\n",
    "df2.loc[(df2['Product'].notnull()) & (df2['Product'].str.contains('Other financial service')), 'Product'] = 'LOAN'\n",
    "df2.loc[(df2['Product'].notnull()) & (df2['Product'].str.contains('Payday loan')), 'Product'] = 'LOAN'\n",
    "df2.loc[(df2['Product'].notnull()) & (df2['Product'].str.contains('Vehicle loan or lease')), 'Product'] = 'LOAN'\n",
    "df2.loc[(df2['Product'].notnull()) & (df2['Product'].str.contains('Student loan')), 'Product'] = 'LOAN'\n",
    "df2.loc[(df2['Product'].notnull()) & (df2['Product'].str.contains('Other financial service')), 'Product'] = 'LOAN'\n",
    "df2.loc[(df2['Product'].notnull()) & (df2['Product'].str.contains('Virtual currency')), 'Product'] = 'LOAN'\n",
    "\n",
    "\n",
    "df2.loc[(df2['Product'].notnull()) & (df2['Product'].str.contains('Bank account or service')), 'Product'] = 'Other'\n",
    "df2.loc[(df2['Product'].notnull()) & (df2['Product'].str.contains('Checking or savings account')), 'Product'] = 'Other'\n",
    "df2.loc[(df2['Product'].notnull()) & (df2['Product'].str.contains('Credit card')), 'Product'] = 'Other'\n",
    "df2.loc[(df2['Product'].notnull()) & (df2['Product'].str.contains('Credit reporting')), 'Product'] = 'Other'\n",
    "df2.loc[(df2['Product'].notnull()) & (df2['Product'].str.contains('Money transfer')), 'Product'] = 'Other'\n",
    "df2.loc[(df2['Product'].notnull()) & (df2['Product'].str.contains('Money transfers')), 'Product'] = 'Other'\n",
    "df2.loc[(df2['Product'].notnull()) & (df2['Product'].str.contains('Mortgage')), 'Product'] = 'Other'\n",
    "df2.loc[(df2['Product'].notnull()) & (df2['Product'].str.contains('Prepaid card')), 'Product'] = 'Other'\n",
    "df2.loc[(df2['Product'].notnull()) & (df2['Product'].str.contains('Prepaid card')), 'Product'] = 'Other'"
   ]
  },
  {
   "cell_type": "markdown",
   "metadata": {},
   "source": [
    "Recode state, based on their response"
   ]
  },
  {
   "cell_type": "code",
   "execution_count": 168,
   "metadata": {
    "collapsed": false
   },
   "outputs": [
    {
     "name": "stdout",
     "output_type": "stream",
     "text": [
      "crosstab dependent var vs. State\n"
     ]
    }
   ],
   "source": [
    "print ('crosstab dependent var vs. State')\n",
    "#and   https://stackoverflow.com/questions/21415661/logic-operator-for-boolean-indexing-in-pandas \n",
    "#not   https://stackoverflow.com/questions/15998188/how-can-i-obtain-the-element-wise-logical-not-of-a-pandas-series\n",
    "#or    https://stackoverflow.com/questions/24775648/element-wise-logical-or-in-pandas\n",
    "\n",
    "#flatten array  .flatten, .ravel()\n",
    "result = pd.crosstab(df2.State, df2.Timely_response).iloc[:,0] * 35 - pd.crosstab(df2.State, df2.Timely_response).iloc[:,1]\n",
    "state1 = result [result >100].index.values\n",
    "#state2 = result [(result [result >-100])  & (result[result<=100])].index.values\n",
    "state2 = np.intersect1d((result [result >-100]).index.values,(result[result<=100]).index.values)\n",
    "state3 = result [result <=-100].index.values\n",
    "state = np.concatenate((state1,state2,state3))\n",
    "region = ['Neg'] * state1.shape[0] + ['Med'] * state2.shape[0] + ['Pos'] * state3.shape[0]\n",
    "\n",
    "df2.State = df2.State.apply(lambda x: dict(zip(state, region))[x])\n"
   ]
  },
  {
   "cell_type": "code",
   "execution_count": 224,
   "metadata": {
    "collapsed": false
   },
   "outputs": [
    {
     "data": {
      "text/plain": [
       "(State\n",
       " AA    -15\n",
       " AE    -54\n",
       " AP     81\n",
       " AR   -242\n",
       " AS    -25\n",
       " dtype: int64, State\n",
       " AA     -15\n",
       " AE     -54\n",
       " AK     284\n",
       " AL    2106\n",
       " AP      81\n",
       " dtype: int64)"
      ]
     },
     "execution_count": 224,
     "metadata": {},
     "output_type": "execute_result"
    }
   ],
   "source": [
    "#len([i for i in list(state1, state2, state3)])\n",
    "#len(region), len(state),len(df2.State.unique()),len(state1),len(state2),len(state3),state[state1.isin(list(state))]\n",
    "#[i for i in df2.State.unique() if i not in state],result.loc[state2]\n",
    "\n",
    "#np.intersect1d((result [result >-100]).index.values,(result[result<=100]).index.values)\n",
    "#result[(result>-100)&(result<=100)].index.values,result [result >-100].index.values, result[result<=100].index.values,np.intersect1d((result [result >-100]).index.values,(result[result<=100]).index.values)\n",
    "#result[(result [result >-100])&(result[result<=100])].index.values, result [result >-100].index.values, result[result<=100].index.values,np.intersect1d((result [result >-100]).index.values,(result[result<=100]).index.values)\n",
    "#result = pd.crosstab(df2.State, df2.Timely_response).iloc[:,0] * 35 - pd.crosstab(df2.State, df2.Timely_response).iloc[:,1]\n",
    "#result[result<=100]&result[result>-100]\n",
    "pd.concat([pd.Series((result<=100)&(result>-100)),pd.Series(result[result<=100]&result[result>-100])],axis=1)\n",
    "result[result<=100].head(),result[result>-100].head()\n",
    "#(result[result<=100])"
   ]
  },
  {
   "cell_type": "markdown",
   "metadata": {},
   "source": [
    "Recode subproduct based on their frequency"
   ]
  },
  {
   "cell_type": "code",
   "execution_count": 262,
   "metadata": {
    "collapsed": false
   },
   "outputs": [
    {
     "name": "stdout",
     "output_type": "stream",
     "text": [
      "Check nan's value\n"
     ]
    },
    {
     "data": {
      "text/plain": [
       "Yes    232068\n",
       "No       1876\n",
       "Name: Timely_response, dtype: int64"
      ]
     },
     "execution_count": 262,
     "metadata": {},
     "output_type": "execute_result"
    }
   ],
   "source": [
    "print ('Check nan\\'s value')\n",
    "df2.loc[df2.Subproduct.isnull(),'Timely_response'].value_counts()"
   ]
  },
  {
   "cell_type": "code",
   "execution_count": 274,
   "metadata": {
    "collapsed": false
   },
   "outputs": [
    {
     "name": "stdout",
     "output_type": "stream",
     "text": [
      "crosstab dependent var vs. Subproduct\n"
     ]
    },
    {
     "data": {
      "text/html": [
       "<div>\n",
       "<style>\n",
       "    .dataframe thead tr:only-child th {\n",
       "        text-align: right;\n",
       "    }\n",
       "\n",
       "    .dataframe thead th {\n",
       "        text-align: left;\n",
       "    }\n",
       "\n",
       "    .dataframe tbody tr th {\n",
       "        vertical-align: top;\n",
       "    }\n",
       "</style>\n",
       "<table border=\"1\" class=\"dataframe\">\n",
       "  <thead>\n",
       "    <tr style=\"text-align: right;\">\n",
       "      <th>Timely_response</th>\n",
       "      <th>No</th>\n",
       "      <th>Yes</th>\n",
       "    </tr>\n",
       "    <tr>\n",
       "      <th>Subproduct</th>\n",
       "      <th></th>\n",
       "      <th></th>\n",
       "    </tr>\n",
       "  </thead>\n",
       "  <tbody>\n",
       "    <tr>\n",
       "      <th>Med</th>\n",
       "      <td>1161</td>\n",
       "      <td>41175</td>\n",
       "    </tr>\n",
       "    <tr>\n",
       "      <th>Neg</th>\n",
       "      <td>13247</td>\n",
       "      <td>186669</td>\n",
       "    </tr>\n",
       "    <tr>\n",
       "      <th>Pos</th>\n",
       "      <td>8807</td>\n",
       "      <td>576234</td>\n",
       "    </tr>\n",
       "  </tbody>\n",
       "</table>\n",
       "</div>"
      ],
      "text/plain": [
       "Timely_response     No     Yes\n",
       "Subproduct                    \n",
       "Med               1161   41175\n",
       "Neg              13247  186669\n",
       "Pos               8807  576234"
      ]
     },
     "execution_count": 274,
     "metadata": {},
     "output_type": "execute_result"
    }
   ],
   "source": [
    "print ('crosstab dependent var vs. Subproduct')\n",
    "result = (pd.crosstab(df2.Subproduct, df2.Timely_response).iloc[:,0] * 35 - pd.crosstab(df2.Subproduct, df2.Timely_response).iloc[:,1])/df2.Subproduct.value_counts()\n",
    "\n",
    "df2.loc[df2.Subproduct.isnull(),'Subproduct'] = 'Pos'\n",
    "\n",
    "sub_neg = result [result >0.1].index.values\n",
    "sub_med = np.intersect1d((result [result >-0.1]).index.values,(result[result<=0.1]).index.values)\n",
    "sub_pos = result [result <=-0.1].index.values\n",
    "\n",
    "sub = np.concatenate((sub_neg,sub_med,sub_pos,['Pos']))\n",
    "cat = ['Neg'] * sub_neg.shape[0] + ['Med'] * sub_med.shape[0] + ['Pos'] * sub_pos.shape[0] + ['Pos']\n",
    "df2.Subproduct = df2.Subproduct.apply(lambda x: dict(zip(sub, cat))[x])\n",
    "pd.crosstab(df2.Subproduct,df2.Timely_response)"
   ]
  },
  {
   "cell_type": "code",
   "execution_count": 28,
   "metadata": {
    "collapsed": false,
    "scrolled": true
   },
   "outputs": [
    {
     "name": "stderr",
     "output_type": "stream",
     "text": [
      "C:\\Users\\frank\\Anaconda2\\lib\\site-packages\\ipykernel\\__main__.py:20: SettingWithCopyWarning: \n",
      "A value is trying to be set on a copy of a slice from a DataFrame\n",
      "\n",
      "See the caveats in the documentation: http://pandas.pydata.org/pandas-docs/stable/indexing.html#indexing-view-versus-copy\n"
     ]
    }
   ],
   "source": [
    "#upper characters in variable\n",
    "\n",
    "#loan = ['LOAN', 'MORTGAGE','DEBT']\n",
    "#df2.loc[df2['Subproduct'].notnull(), 'Subproduct'] = pd.Series([x.upper() \n",
    "#for x in df.loc[df['Sub-product'].notnull(),'Sub-product']])  # convert to uppercase\n",
    "#len(set([[x in y.split()] for y in df2.Subproduct]).intersection(set(loan))) != 0\n"
   ]
  },
  {
   "cell_type": "code",
   "execution_count": 273,
   "metadata": {
    "collapsed": false
   },
   "outputs": [
    {
     "data": {
      "text/plain": [
       "APR or interest rate                                            -0.683748\n",
       "Account opening, closing, or management                         -0.018860\n",
       "Account terms and changes                                       -0.025000\n",
       "Adding money                                                    -0.818182\n",
       "Advertising                                                     -1.000000\n",
       "Advertising and marketing                                       -0.682173\n",
       "Advertising and marketing, including promotional offers         -0.918182\n",
       "Advertising, marketing or disclosures                           -1.000000\n",
       "Application processing delay                                    -0.664179\n",
       "Application, originator, mortgage broker                         0.283014\n",
       "Applied for loan/did not receive money                           1.315789\n",
       "Applying for a mortgage                                         -0.384615\n",
       "Applying for a mortgage or refinancing an existing mortgage      0.221239\n",
       "Arbitration                                                      0.031519\n",
       "Attempts to collect debt not owed                                0.543614\n",
       "Balance transfer                                                -0.610811\n",
       "Balance transfer fee                                            -0.509091\n",
       "Bankruptcy                                                      -0.513514\n",
       "Billing disputes                                                -0.666444\n",
       "Billing statement                                               -0.778291\n",
       "Can't contact lender                                             4.110100\n",
       "Can't contact lender or servicer                                 4.760000\n",
       "Can't repay my loan                                             -0.722376\n",
       "Can't stop charges to bank account                               2.188976\n",
       "Can't stop withdrawals from your bank account                    2.789474\n",
       "Cash advance                                                    -0.851240\n",
       "Cash advance fee                                                -0.076923\n",
       "Charged bank acct wrong day or amt                               3.378378\n",
       "Charged fees or interest I didn't expect                         2.369264\n",
       "Charged fees or interest you didn't expect                       1.606897\n",
       "                                                                   ...   \n",
       "Sale of account                                                 -0.366569\n",
       "Settlement process and costs                                     0.043361\n",
       "Shopping for a line of credit                                    0.674419\n",
       "Shopping for a loan or lease                                     0.391477\n",
       "Struggling to pay mortgage                                      -0.850908\n",
       "Struggling to pay your bill                                     -0.672727\n",
       "Struggling to pay your loan                                      1.022472\n",
       "Struggling to repay your loan                                   -0.790291\n",
       "Taking out the loan or lease                                     0.454545\n",
       "Taking/threatening an illegal action                             3.017639\n",
       "Threatened to contact someone or share information improperly    1.149254\n",
       "Took or threatened to take negative or legal action              2.362781\n",
       "Transaction issue                                               -0.611173\n",
       "Trouble during payment process                                  -0.728834\n",
       "Trouble using the card                                          -1.000000\n",
       "Trouble using your card                                         -0.836364\n",
       "Unable to get credit report/credit score                        -0.963221\n",
       "Unable to get your credit report or credit score                 0.384615\n",
       "Unauthorized transactions or other transaction problem          -1.000000\n",
       "Unauthorized transactions/trans. issues                         -0.478659\n",
       "Unexpected or other fees                                        -0.702479\n",
       "Unexpected/Other fees                                            2.207921\n",
       "Unsolicited issuance of credit card                              0.217676\n",
       "Using a debit or ATM card                                       -0.170234\n",
       "Vehicle was damaged or destroyed the vehicle                    -1.000000\n",
       "Vehicle was repossessed or sold the vehicle                     -1.000000\n",
       "Was approved for a loan, but didn't receive money               -1.000000\n",
       "Was approved for a loan, but didn't receive the money           -1.000000\n",
       "Written notification about debt                                  0.143847\n",
       "Wrong amount charged or received                                 0.414286\n",
       "Length: 165, dtype: float64"
      ]
     },
     "execution_count": 273,
     "metadata": {},
     "output_type": "execute_result"
    }
   ],
   "source": [
    "\n",
    "(pd.crosstab(df2.Issue, df2.Timely_response).iloc[:,0] * 35 - pd.crosstab(df2.Issue, df2.Timely_response).iloc[:,1])/df2.Issue.value_counts()"
   ]
  },
  {
   "cell_type": "code",
   "execution_count": 285,
   "metadata": {
    "collapsed": false
   },
   "outputs": [
    {
     "name": "stdout",
     "output_type": "stream",
     "text": [
      "crosstab Issue vs Timely_response\n"
     ]
    },
    {
     "data": {
      "text/html": [
       "<div>\n",
       "<style>\n",
       "    .dataframe thead tr:only-child th {\n",
       "        text-align: right;\n",
       "    }\n",
       "\n",
       "    .dataframe thead th {\n",
       "        text-align: left;\n",
       "    }\n",
       "\n",
       "    .dataframe tbody tr th {\n",
       "        vertical-align: top;\n",
       "    }\n",
       "</style>\n",
       "<table border=\"1\" class=\"dataframe\">\n",
       "  <thead>\n",
       "    <tr style=\"text-align: right;\">\n",
       "      <th>Timely_response</th>\n",
       "      <th>No</th>\n",
       "      <th>Yes</th>\n",
       "    </tr>\n",
       "    <tr>\n",
       "      <th>Issue</th>\n",
       "      <th></th>\n",
       "      <th></th>\n",
       "    </tr>\n",
       "  </thead>\n",
       "  <tbody>\n",
       "    <tr>\n",
       "      <th>Med</th>\n",
       "      <td>2033</td>\n",
       "      <td>72701</td>\n",
       "    </tr>\n",
       "    <tr>\n",
       "      <th>Neg</th>\n",
       "      <td>14517</td>\n",
       "      <td>217045</td>\n",
       "    </tr>\n",
       "    <tr>\n",
       "      <th>Pos</th>\n",
       "      <td>6665</td>\n",
       "      <td>514332</td>\n",
       "    </tr>\n",
       "  </tbody>\n",
       "</table>\n",
       "</div>"
      ],
      "text/plain": [
       "Timely_response     No     Yes\n",
       "Issue                         \n",
       "Med               2033   72701\n",
       "Neg              14517  217045\n",
       "Pos               6665  514332"
      ]
     },
     "execution_count": 285,
     "metadata": {},
     "output_type": "execute_result"
    }
   ],
   "source": [
    "print ('crosstab Issue vs Timely_response')\n",
    "result = (pd.crosstab(df2.Issue, df2.Timely_response).iloc[:,0] * 35 - pd.crosstab(df2.Issue, df2.Timely_response).iloc[:,1])/df2.Issue.value_counts()\n",
    "sub_neg = result [result >0.1].index.values\n",
    "sub_med = np.intersect1d((result [result >-0.1]).index.values,(result[result<=0.1]).index.values)\n",
    "sub_pos = result [result <=-0.1].index.values\n",
    "\n",
    "sub = np.concatenate((sub_neg,sub_med,sub_pos))\n",
    "cat = ['Neg'] * sub_neg.shape[0] + ['Med'] * sub_med.shape[0] + ['Pos'] * sub_pos.shape[0] \n",
    "df2.Issue = df2.Issue.apply(lambda x: dict(zip(sub, cat))[x])\n",
    "pd.crosstab(df2.Issue,df2.Timely_response)"
   ]
  },
  {
   "cell_type": "markdown",
   "metadata": {},
   "source": [
    "Recode Issue, issues contain (loan, mortgage, debt) is recoded as LOAN. issues contain credit is recoded as credit, others are recoded as other"
   ]
  },
  {
   "cell_type": "code",
   "execution_count": 29,
   "metadata": {
    "collapsed": false,
    "scrolled": true
   },
   "outputs": [
    {
     "name": "stderr",
     "output_type": "stream",
     "text": [
      "C:\\Users\\frank\\Anaconda2\\lib\\site-packages\\ipykernel\\__main__.py:12: SettingWithCopyWarning: \n",
      "A value is trying to be set on a copy of a slice from a DataFrame\n",
      "\n",
      "See the caveats in the documentation: http://pandas.pydata.org/pandas-docs/stable/indexing.html#indexing-view-versus-copy\n"
     ]
    }
   ],
   "source": [
    "#recode variable based on their frequency\n",
    "\n",
    "#Product_freq = df2.Issue.value_counts()/(df2.shape[0])\n",
    "#p_cat = list(Product_freq[Product_freq < 0.1].index) #change index to array\n",
    "#df2.loc[:,'Issue'][ df2.loc[:,'Issue'].isin( p_cat)] = 'Other'"
   ]
  },
  {
   "cell_type": "code",
   "execution_count": 30,
   "metadata": {
    "collapsed": false
   },
   "outputs": [
    {
     "data": {
      "text/html": [
       "<div>\n",
       "<style>\n",
       "    .dataframe thead tr:only-child th {\n",
       "        text-align: right;\n",
       "    }\n",
       "\n",
       "    .dataframe thead th {\n",
       "        text-align: left;\n",
       "    }\n",
       "\n",
       "    .dataframe tbody tr th {\n",
       "        vertical-align: top;\n",
       "    }\n",
       "</style>\n",
       "<table border=\"1\" class=\"dataframe\">\n",
       "  <thead>\n",
       "    <tr style=\"text-align: right;\">\n",
       "      <th></th>\n",
       "      <th>Date_re</th>\n",
       "      <th>Product</th>\n",
       "      <th>Subproduct</th>\n",
       "      <th>Issue</th>\n",
       "      <th>Company</th>\n",
       "      <th>State</th>\n",
       "      <th>Zip</th>\n",
       "      <th>Submitted</th>\n",
       "      <th>Date_sent</th>\n",
       "      <th>Timely_response</th>\n",
       "      <th>Complaint ID</th>\n",
       "    </tr>\n",
       "  </thead>\n",
       "  <tbody>\n",
       "    <tr>\n",
       "      <th>0</th>\n",
       "      <td>2</td>\n",
       "      <td>Mortgage</td>\n",
       "      <td>LOAN</td>\n",
       "      <td>LOAN</td>\n",
       "      <td>M&amp;T BANK CORPORATION</td>\n",
       "      <td>NE</td>\n",
       "      <td>48382</td>\n",
       "      <td>Referral</td>\n",
       "      <td>0</td>\n",
       "      <td>Yes</td>\n",
       "      <td>759217</td>\n",
       "    </tr>\n",
       "    <tr>\n",
       "      <th>1</th>\n",
       "      <td>5</td>\n",
       "      <td>Credit reporting</td>\n",
       "      <td>NaN</td>\n",
       "      <td>Credit</td>\n",
       "      <td>TRANSUNION INTERMEDIATE HOLDINGS, INC.</td>\n",
       "      <td>SE</td>\n",
       "      <td>352XX</td>\n",
       "      <td>Web</td>\n",
       "      <td>2</td>\n",
       "      <td>Yes</td>\n",
       "      <td>2141773</td>\n",
       "    </tr>\n",
       "    <tr>\n",
       "      <th>2</th>\n",
       "      <td>0</td>\n",
       "      <td>Consumer Loan</td>\n",
       "      <td>LOAN</td>\n",
       "      <td>LOAN</td>\n",
       "      <td>CITIZENS FINANCIAL GROUP, INC.</td>\n",
       "      <td>NE</td>\n",
       "      <td>177XX</td>\n",
       "      <td>Web</td>\n",
       "      <td>3</td>\n",
       "      <td>Yes</td>\n",
       "      <td>2163100</td>\n",
       "    </tr>\n",
       "    <tr>\n",
       "      <th>3</th>\n",
       "      <td>6</td>\n",
       "      <td>Credit card</td>\n",
       "      <td>NaN</td>\n",
       "      <td>Other</td>\n",
       "      <td>AMERICAN EXPRESS COMPANY</td>\n",
       "      <td>NW</td>\n",
       "      <td>83854</td>\n",
       "      <td>Web</td>\n",
       "      <td>1</td>\n",
       "      <td>Yes</td>\n",
       "      <td>885638</td>\n",
       "    </tr>\n",
       "    <tr>\n",
       "      <th>4</th>\n",
       "      <td>5</td>\n",
       "      <td>Debt collection</td>\n",
       "      <td>BANKING_SERVICE</td>\n",
       "      <td>Other</td>\n",
       "      <td>CITIBANK, N.A.</td>\n",
       "      <td>SE</td>\n",
       "      <td>23233</td>\n",
       "      <td>Web</td>\n",
       "      <td>5</td>\n",
       "      <td>Yes</td>\n",
       "      <td>1027760</td>\n",
       "    </tr>\n",
       "  </tbody>\n",
       "</table>\n",
       "</div>"
      ],
      "text/plain": [
       "   Date_re           Product       Subproduct   Issue  \\\n",
       "0        2          Mortgage             LOAN    LOAN   \n",
       "1        5  Credit reporting              NaN  Credit   \n",
       "2        0     Consumer Loan             LOAN    LOAN   \n",
       "3        6       Credit card              NaN   Other   \n",
       "4        5   Debt collection  BANKING_SERVICE   Other   \n",
       "\n",
       "                                  Company State    Zip Submitted  Date_sent  \\\n",
       "0                    M&T BANK CORPORATION    NE  48382  Referral          0   \n",
       "1  TRANSUNION INTERMEDIATE HOLDINGS, INC.    SE  352XX       Web          2   \n",
       "2          CITIZENS FINANCIAL GROUP, INC.    NE  177XX       Web          3   \n",
       "3                AMERICAN EXPRESS COMPANY    NW  83854       Web          1   \n",
       "4                          CITIBANK, N.A.    SE  23233       Web          5   \n",
       "\n",
       "  Timely_response  Complaint ID  \n",
       "0             Yes        759217  \n",
       "1             Yes       2141773  \n",
       "2             Yes       2163100  \n",
       "3             Yes        885638  \n",
       "4             Yes       1027760  "
      ]
     },
     "execution_count": 30,
     "metadata": {},
     "output_type": "execute_result"
    }
   ],
   "source": [
    "df2.head()"
   ]
  },
  {
   "cell_type": "markdown",
   "metadata": {},
   "source": [
    "Check dependent variable frequency"
   ]
  },
  {
   "cell_type": "code",
   "execution_count": 31,
   "metadata": {
    "collapsed": false,
    "scrolled": true
   },
   "outputs": [
    {
     "data": {
      "text/plain": [
       "Yes    0.971939\n",
       "No     0.028061\n",
       "Name: Timely_response, dtype: float64"
      ]
     },
     "execution_count": 31,
     "metadata": {},
     "output_type": "execute_result"
    }
   ],
   "source": [
    "df2.Timely_response.value_counts()/(df2.shape[0])"
   ]
  },
  {
   "cell_type": "markdown",
   "metadata": {},
   "source": [
    "Recode company, convert cat to continuous based on frequency"
   ]
  },
  {
   "cell_type": "code",
   "execution_count": 32,
   "metadata": {
    "collapsed": true
   },
   "outputs": [],
   "source": [
    "#n = df2.Company.value_counts()/(df2.shape[0])\n",
    "#dic = dict(zip(n.index,n.values/n[0]))\n",
    "#df2['Company'] = df2['Company'].apply(lambda x: dic[x])"
   ]
  },
  {
   "cell_type": "code",
   "execution_count": null,
   "metadata": {
    "collapsed": false
   },
   "outputs": [
    {
     "name": "stdout",
     "output_type": "stream",
     "text": [
      "crosstab Company vs Timely_response\n"
     ]
    }
   ],
   "source": [
    "print ('crosstab Company vs Timely_response')\n",
    "result = (pd.crosstab(df2.Company, df2.Timely_response).iloc[:,0] * 35 - pd.crosstab(df2.Company, df2.Timely_response).iloc[:,1])/df2.Company.value_counts()\n",
    "sub_neg = result [result >0.1].index.values\n",
    "sub_med = np.intersect1d((result [result >-0.1]).index.values,(result[result<=0.1]).index.values)\n",
    "sub_pos = result [result <=-0.1].index.values\n",
    "\n",
    "sub = np.concatenate((sub_neg,sub_med,sub_pos))\n",
    "cat = ['Neg'] * sub_neg.shape[0] + ['Med'] * sub_med.shape[0] + ['Pos'] * sub_pos.shape[0] \n",
    "df2.Company = df2.Company.apply(lambda x: dict(zip(sub, cat))[x])\n",
    "pd.crosstab(df2.Company,df2.Timely_response)"
   ]
  },
  {
   "cell_type": "markdown",
   "metadata": {},
   "source": [
    "\n",
    "ZIP: convert cat to continuous based on frequency"
   ]
  },
  {
   "cell_type": "code",
   "execution_count": 33,
   "metadata": {
    "collapsed": true
   },
   "outputs": [],
   "source": [
    "n = df2.Zip.value_counts()/(df2.shape[0])\n",
    "dic = dict(zip(n.index,n.values/max(n)))\n",
    "df2['Zip'] = df2['Zip'].apply(lambda x: dic[x])"
   ]
  },
  {
   "cell_type": "markdown",
   "metadata": {},
   "source": [
    "## 3. Encoding to change categorical to factor"
   ]
  },
  {
   "cell_type": "code",
   "execution_count": 36,
   "metadata": {
    "collapsed": false,
    "scrolled": false
   },
   "outputs": [],
   "source": [
    "df3 = df2.copy()\n",
    "lb_make = LabelEncoder()\n",
    "for i in ['Product', 'Subproduct','Issue','State','Submitted','Timely_response','Date_re','Date_sent','Company']:\n",
    "    df3[i+\"_code\"] = lb_make.fit_transform(df3[i])"
   ]
  },
  {
   "cell_type": "markdown",
   "metadata": {},
   "source": [
    "Remove first 10 columns and remain one hot encoding columns"
   ]
  },
  {
   "cell_type": "code",
   "execution_count": 37,
   "metadata": {
    "collapsed": true
   },
   "outputs": [],
   "source": [
    "df3 = df3.loc [:,['Date_re_code','Date_sent_code','Company_code','Zip','Product_code', 'Subproduct_code','Issue_code','State_code',\n",
    "            'Submitted_code','Timely_response_code','Complaint ID']]"
   ]
  },
  {
   "cell_type": "code",
   "execution_count": 38,
   "metadata": {
    "collapsed": false,
    "scrolled": true
   },
   "outputs": [
    {
     "data": {
      "text/plain": [
       "[(55.981517660971917, 2.9361179005562298e-10),\n",
       " (408.67969586922345, 3.8041565897499607e-85),\n",
       " (243914.44198453895, 0.0),\n",
       " (1189.7438363263971, 4.8973434419626942e-60),\n",
       " (16523.256552289797, 0.0),\n",
       " (12223.727104451322, 0.0),\n",
       " (3869.2800789372732, 0.0),\n",
       " (198.79523215196596, 6.821615307918483e-42),\n",
       " (609.33105664345874, 1.9483970375036275e-129),\n",
       " (827256.33539423801, 0.0),\n",
       " (827292.99999999965, 0.49948309090780257)]"
      ]
     },
     "execution_count": 38,
     "metadata": {},
     "output_type": "execute_result"
    }
   ],
   "source": [
    "#chi-squre test\n",
    "\n",
    "[chi2_contingency(pd.crosstab(np.asarray(df3.iloc[:,i]), np.asarray(df3.loc[:,'Timely_response_code'])))[:2] for i in range(df3.shape[1])]\n",
    "\n"
   ]
  },
  {
   "cell_type": "code",
   "execution_count": 39,
   "metadata": {
    "collapsed": false
   },
   "outputs": [
    {
     "data": {
      "text/html": [
       "<div>\n",
       "<style>\n",
       "    .dataframe thead tr:only-child th {\n",
       "        text-align: right;\n",
       "    }\n",
       "\n",
       "    .dataframe thead th {\n",
       "        text-align: left;\n",
       "    }\n",
       "\n",
       "    .dataframe tbody tr th {\n",
       "        vertical-align: top;\n",
       "    }\n",
       "</style>\n",
       "<table border=\"1\" class=\"dataframe\">\n",
       "  <thead>\n",
       "    <tr style=\"text-align: right;\">\n",
       "      <th></th>\n",
       "      <th>Date_re_code</th>\n",
       "      <th>Date_sent_code</th>\n",
       "      <th>Company_code</th>\n",
       "      <th>Zip</th>\n",
       "      <th>Product_code</th>\n",
       "      <th>Subproduct_code</th>\n",
       "      <th>Issue_code</th>\n",
       "      <th>State_code</th>\n",
       "      <th>Submitted_code</th>\n",
       "      <th>Timely_response_code</th>\n",
       "      <th>Complaint ID</th>\n",
       "    </tr>\n",
       "  </thead>\n",
       "  <tbody>\n",
       "    <tr>\n",
       "      <th>0</th>\n",
       "      <td>2</td>\n",
       "      <td>0</td>\n",
       "      <td>2420</td>\n",
       "      <td>0.253326</td>\n",
       "      <td>6</td>\n",
       "      <td>2</td>\n",
       "      <td>1</td>\n",
       "      <td>0</td>\n",
       "      <td>4</td>\n",
       "      <td>1</td>\n",
       "      <td>759217</td>\n",
       "    </tr>\n",
       "    <tr>\n",
       "      <th>1</th>\n",
       "      <td>5</td>\n",
       "      <td>2</td>\n",
       "      <td>3864</td>\n",
       "      <td>0.143090</td>\n",
       "      <td>3</td>\n",
       "      <td>0</td>\n",
       "      <td>0</td>\n",
       "      <td>3</td>\n",
       "      <td>5</td>\n",
       "      <td>1</td>\n",
       "      <td>2141773</td>\n",
       "    </tr>\n",
       "    <tr>\n",
       "      <th>2</th>\n",
       "      <td>0</td>\n",
       "      <td>3</td>\n",
       "      <td>756</td>\n",
       "      <td>0.009775</td>\n",
       "      <td>1</td>\n",
       "      <td>2</td>\n",
       "      <td>1</td>\n",
       "      <td>0</td>\n",
       "      <td>5</td>\n",
       "      <td>1</td>\n",
       "      <td>2163100</td>\n",
       "    </tr>\n",
       "    <tr>\n",
       "      <th>3</th>\n",
       "      <td>6</td>\n",
       "      <td>1</td>\n",
       "      <td>108</td>\n",
       "      <td>0.013304</td>\n",
       "      <td>2</td>\n",
       "      <td>0</td>\n",
       "      <td>2</td>\n",
       "      <td>1</td>\n",
       "      <td>5</td>\n",
       "      <td>1</td>\n",
       "      <td>885638</td>\n",
       "    </tr>\n",
       "    <tr>\n",
       "      <th>4</th>\n",
       "      <td>5</td>\n",
       "      <td>5</td>\n",
       "      <td>755</td>\n",
       "      <td>0.028781</td>\n",
       "      <td>5</td>\n",
       "      <td>1</td>\n",
       "      <td>2</td>\n",
       "      <td>3</td>\n",
       "      <td>5</td>\n",
       "      <td>1</td>\n",
       "      <td>1027760</td>\n",
       "    </tr>\n",
       "  </tbody>\n",
       "</table>\n",
       "</div>"
      ],
      "text/plain": [
       "   Date_re_code  Date_sent_code  Company_code       Zip  Product_code  \\\n",
       "0             2               0          2420  0.253326             6   \n",
       "1             5               2          3864  0.143090             3   \n",
       "2             0               3           756  0.009775             1   \n",
       "3             6               1           108  0.013304             2   \n",
       "4             5               5           755  0.028781             5   \n",
       "\n",
       "   Subproduct_code  Issue_code  State_code  Submitted_code  \\\n",
       "0                2           1           0               4   \n",
       "1                0           0           3               5   \n",
       "2                2           1           0               5   \n",
       "3                0           2           1               5   \n",
       "4                1           2           3               5   \n",
       "\n",
       "   Timely_response_code  Complaint ID  \n",
       "0                     1        759217  \n",
       "1                     1       2141773  \n",
       "2                     1       2163100  \n",
       "3                     1        885638  \n",
       "4                     1       1027760  "
      ]
     },
     "execution_count": 39,
     "metadata": {},
     "output_type": "execute_result"
    }
   ],
   "source": [
    "df3.head()"
   ]
  },
  {
   "cell_type": "code",
   "execution_count": null,
   "metadata": {
    "collapsed": true
   },
   "outputs": [],
   "source": [
    "pd.crosstab(df3.Date_re_code, Timely_response_code)"
   ]
  },
  {
   "cell_type": "markdown",
   "metadata": {},
   "source": [
    "# Model"
   ]
  },
  {
   "cell_type": "markdown",
   "metadata": {},
   "source": [
    "## 1. Tree model"
   ]
  },
  {
   "cell_type": "code",
   "execution_count": 110,
   "metadata": {
    "collapsed": false,
    "scrolled": true
   },
   "outputs": [],
   "source": [
    "\n",
    "\n",
    "#X_train = df3.ix[:int(0.9*df3.shape[0]),df3.columns != 'Timely_response_code']\n",
    "#y_train = df3.ix[:int(0.9* df3.shape[0]),'Timely_response_code']\n",
    "\n",
    "#X_test = df3.ix[int(0.9*df3.shape[0]):,df3.columns != 'Timely_response_code']\n",
    "#y_test = df3.ix[int(0.9*df3.shape[0]): ,'Timely_response_code']\n",
    "index = df3.loc[:,'Complaint ID'].isin(test.loc[:,'Complaint ID'])\n",
    "X_train = df3.loc[~index,df3.columns !='Timely_response_code']\n",
    "X_test = df3.loc[index,df3.columns !='Timely_response_code']\n",
    "\n",
    "y_train = df3.loc[~index,'Timely_response_code']\n",
    "y_test = df3.loc[index,'Timely_response_code']\n",
    "\n",
    "X_train = X_train.drop(['Complaint ID'],axis=1)\n",
    "X_test = X_test.drop(['Complaint ID'],axis=1)\n"
   ]
  },
  {
   "cell_type": "code",
   "execution_count": 111,
   "metadata": {
    "collapsed": false
   },
   "outputs": [
    {
     "data": {
      "text/plain": [
       "DecisionTreeClassifier(class_weight=None, criterion='gini', max_depth=3,\n",
       "            max_features=None, max_leaf_nodes=None,\n",
       "            min_impurity_decrease=0.0, min_impurity_split=None,\n",
       "            min_samples_leaf=5, min_samples_split=2,\n",
       "            min_weight_fraction_leaf=0.0, presort=False, random_state=100,\n",
       "            splitter='best')"
      ]
     },
     "execution_count": 111,
     "metadata": {},
     "output_type": "execute_result"
    }
   ],
   "source": [
    "clf_gini = DecisionTreeClassifier(criterion = \"gini\", random_state = 100,\n",
    "                                min_samples_leaf=5)\n",
    "clf_gini.fit(X_train, y_train)"
   ]
  },
  {
   "cell_type": "code",
   "execution_count": 115,
   "metadata": {
    "collapsed": false,
    "scrolled": false
   },
   "outputs": [
    {
     "data": {
      "text/plain": [
       "0.5"
      ]
     },
     "execution_count": 115,
     "metadata": {},
     "output_type": "execute_result"
    }
   ],
   "source": [
    "sklearn.metrics.roc_auc_score(y_test,clf_gini.predict(X_test))"
   ]
  },
  {
   "cell_type": "code",
   "execution_count": 113,
   "metadata": {
    "collapsed": false
   },
   "outputs": [
    {
     "data": {
      "text/plain": [
       "(    Date_re_code  Date_sent_code  Company_code       Zip  Product_code  \\\n",
       " 7              0               0          1477  0.083627             3   \n",
       " 11             4               3          3790  0.013033             8   \n",
       " 19             2               2          1477  0.015205             3   \n",
       " 23             2               2          2739  0.019278             6   \n",
       " 26             3               3          1927  0.010589             6   \n",
       " \n",
       "     Subproduct_code  Issue_code  State_code  Submitted_code  \n",
       " 7                 0           0           3               5  \n",
       " 11                2           1           0               5  \n",
       " 19                0           0           4               2  \n",
       " 23                2           1           1               5  \n",
       " 26                2           1           0               5  ,\n",
       "    Date_re_code  Date_sent_code  Company_code       Zip  Product_code  \\\n",
       " 0             2               0          2420  0.253326             6   \n",
       " 1             5               2          3864  0.143090             3   \n",
       " 2             0               3           756  0.009775             1   \n",
       " 3             6               1           108  0.013304             2   \n",
       " 4             5               5           755  0.028781             5   \n",
       " \n",
       "    Subproduct_code  Issue_code  State_code  Submitted_code  \n",
       " 0                2           1           0               4  \n",
       " 1                0           0           3               5  \n",
       " 2                2           1           0               5  \n",
       " 3                0           2           1               5  \n",
       " 4                1           2           3               5  )"
      ]
     },
     "execution_count": 113,
     "metadata": {},
     "output_type": "execute_result"
    }
   ],
   "source": [
    "X_test.head(),X_train.head()"
   ]
  },
  {
   "cell_type": "code",
   "execution_count": 114,
   "metadata": {
    "collapsed": false,
    "scrolled": true
   },
   "outputs": [
    {
     "ename": "KeyboardInterrupt",
     "evalue": "",
     "output_type": "error",
     "traceback": [
      "\u001b[1;31m---------------------------------------------------------------------------\u001b[0m",
      "\u001b[1;31mKeyboardInterrupt\u001b[0m                         Traceback (most recent call last)",
      "\u001b[1;32m<ipython-input-114-c11b62092c36>\u001b[0m in \u001b[0;36m<module>\u001b[1;34m()\u001b[0m\n\u001b[1;32m----> 1\u001b[1;33m \u001b[0mresult_tree\u001b[0m \u001b[1;33m=\u001b[0m \u001b[0mnp\u001b[0m\u001b[1;33m.\u001b[0m\u001b[0mmean\u001b[0m\u001b[1;33m(\u001b[0m\u001b[0mcross_val_score\u001b[0m\u001b[1;33m(\u001b[0m\u001b[0mclf_gini\u001b[0m\u001b[1;33m,\u001b[0m \u001b[0mX\u001b[0m\u001b[1;33m,\u001b[0m \u001b[0my\u001b[0m\u001b[1;33m,\u001b[0m \u001b[0mcv\u001b[0m\u001b[1;33m=\u001b[0m\u001b[1;36m10\u001b[0m\u001b[1;33m,\u001b[0m \u001b[0mscoring\u001b[0m\u001b[1;33m=\u001b[0m\u001b[1;34m\"roc_auc\"\u001b[0m\u001b[1;33m)\u001b[0m\u001b[1;33m)\u001b[0m\u001b[1;33m\u001b[0m\u001b[0m\n\u001b[0m\u001b[0;32m      2\u001b[0m \u001b[0mPrint\u001b[0m \u001b[1;33m(\u001b[0m\u001b[0mresult_tree\u001b[0m\u001b[1;33m)\u001b[0m\u001b[1;33m\u001b[0m\u001b[0m\n",
      "\u001b[1;32mC:\\Users\\frank\\Anaconda2\\lib\\site-packages\\sklearn\\cross_validation.pyc\u001b[0m in \u001b[0;36mcross_val_score\u001b[1;34m(estimator, X, y, scoring, cv, n_jobs, verbose, fit_params, pre_dispatch)\u001b[0m\n\u001b[0;32m   1579\u001b[0m                                               \u001b[0mtrain\u001b[0m\u001b[1;33m,\u001b[0m \u001b[0mtest\u001b[0m\u001b[1;33m,\u001b[0m \u001b[0mverbose\u001b[0m\u001b[1;33m,\u001b[0m \u001b[0mNone\u001b[0m\u001b[1;33m,\u001b[0m\u001b[1;33m\u001b[0m\u001b[0m\n\u001b[0;32m   1580\u001b[0m                                               fit_params)\n\u001b[1;32m-> 1581\u001b[1;33m                       for train, test in cv)\n\u001b[0m\u001b[0;32m   1582\u001b[0m     \u001b[1;32mreturn\u001b[0m \u001b[0mnp\u001b[0m\u001b[1;33m.\u001b[0m\u001b[0marray\u001b[0m\u001b[1;33m(\u001b[0m\u001b[0mscores\u001b[0m\u001b[1;33m)\u001b[0m\u001b[1;33m[\u001b[0m\u001b[1;33m:\u001b[0m\u001b[1;33m,\u001b[0m \u001b[1;36m0\u001b[0m\u001b[1;33m]\u001b[0m\u001b[1;33m\u001b[0m\u001b[0m\n\u001b[0;32m   1583\u001b[0m \u001b[1;33m\u001b[0m\u001b[0m\n",
      "\u001b[1;32mC:\\Users\\frank\\Anaconda2\\lib\\site-packages\\sklearn\\externals\\joblib\\parallel.pyc\u001b[0m in \u001b[0;36m__call__\u001b[1;34m(self, iterable)\u001b[0m\n\u001b[0;32m    777\u001b[0m             \u001b[1;31m# was dispatched. In particular this covers the edge\u001b[0m\u001b[1;33m\u001b[0m\u001b[1;33m\u001b[0m\u001b[0m\n\u001b[0;32m    778\u001b[0m             \u001b[1;31m# case of Parallel used with an exhausted iterator.\u001b[0m\u001b[1;33m\u001b[0m\u001b[1;33m\u001b[0m\u001b[0m\n\u001b[1;32m--> 779\u001b[1;33m             \u001b[1;32mwhile\u001b[0m \u001b[0mself\u001b[0m\u001b[1;33m.\u001b[0m\u001b[0mdispatch_one_batch\u001b[0m\u001b[1;33m(\u001b[0m\u001b[0miterator\u001b[0m\u001b[1;33m)\u001b[0m\u001b[1;33m:\u001b[0m\u001b[1;33m\u001b[0m\u001b[0m\n\u001b[0m\u001b[0;32m    780\u001b[0m                 \u001b[0mself\u001b[0m\u001b[1;33m.\u001b[0m\u001b[0m_iterating\u001b[0m \u001b[1;33m=\u001b[0m \u001b[0mTrue\u001b[0m\u001b[1;33m\u001b[0m\u001b[0m\n\u001b[0;32m    781\u001b[0m             \u001b[1;32melse\u001b[0m\u001b[1;33m:\u001b[0m\u001b[1;33m\u001b[0m\u001b[0m\n",
      "\u001b[1;32mC:\\Users\\frank\\Anaconda2\\lib\\site-packages\\sklearn\\externals\\joblib\\parallel.pyc\u001b[0m in \u001b[0;36mdispatch_one_batch\u001b[1;34m(self, iterator)\u001b[0m\n\u001b[0;32m    623\u001b[0m                 \u001b[1;32mreturn\u001b[0m \u001b[0mFalse\u001b[0m\u001b[1;33m\u001b[0m\u001b[0m\n\u001b[0;32m    624\u001b[0m             \u001b[1;32melse\u001b[0m\u001b[1;33m:\u001b[0m\u001b[1;33m\u001b[0m\u001b[0m\n\u001b[1;32m--> 625\u001b[1;33m                 \u001b[0mself\u001b[0m\u001b[1;33m.\u001b[0m\u001b[0m_dispatch\u001b[0m\u001b[1;33m(\u001b[0m\u001b[0mtasks\u001b[0m\u001b[1;33m)\u001b[0m\u001b[1;33m\u001b[0m\u001b[0m\n\u001b[0m\u001b[0;32m    626\u001b[0m                 \u001b[1;32mreturn\u001b[0m \u001b[0mTrue\u001b[0m\u001b[1;33m\u001b[0m\u001b[0m\n\u001b[0;32m    627\u001b[0m \u001b[1;33m\u001b[0m\u001b[0m\n",
      "\u001b[1;32mC:\\Users\\frank\\Anaconda2\\lib\\site-packages\\sklearn\\externals\\joblib\\parallel.pyc\u001b[0m in \u001b[0;36m_dispatch\u001b[1;34m(self, batch)\u001b[0m\n\u001b[0;32m    586\u001b[0m         \u001b[0mdispatch_timestamp\u001b[0m \u001b[1;33m=\u001b[0m \u001b[0mtime\u001b[0m\u001b[1;33m.\u001b[0m\u001b[0mtime\u001b[0m\u001b[1;33m(\u001b[0m\u001b[1;33m)\u001b[0m\u001b[1;33m\u001b[0m\u001b[0m\n\u001b[0;32m    587\u001b[0m         \u001b[0mcb\u001b[0m \u001b[1;33m=\u001b[0m \u001b[0mBatchCompletionCallBack\u001b[0m\u001b[1;33m(\u001b[0m\u001b[0mdispatch_timestamp\u001b[0m\u001b[1;33m,\u001b[0m \u001b[0mlen\u001b[0m\u001b[1;33m(\u001b[0m\u001b[0mbatch\u001b[0m\u001b[1;33m)\u001b[0m\u001b[1;33m,\u001b[0m \u001b[0mself\u001b[0m\u001b[1;33m)\u001b[0m\u001b[1;33m\u001b[0m\u001b[0m\n\u001b[1;32m--> 588\u001b[1;33m         \u001b[0mjob\u001b[0m \u001b[1;33m=\u001b[0m \u001b[0mself\u001b[0m\u001b[1;33m.\u001b[0m\u001b[0m_backend\u001b[0m\u001b[1;33m.\u001b[0m\u001b[0mapply_async\u001b[0m\u001b[1;33m(\u001b[0m\u001b[0mbatch\u001b[0m\u001b[1;33m,\u001b[0m \u001b[0mcallback\u001b[0m\u001b[1;33m=\u001b[0m\u001b[0mcb\u001b[0m\u001b[1;33m)\u001b[0m\u001b[1;33m\u001b[0m\u001b[0m\n\u001b[0m\u001b[0;32m    589\u001b[0m         \u001b[0mself\u001b[0m\u001b[1;33m.\u001b[0m\u001b[0m_jobs\u001b[0m\u001b[1;33m.\u001b[0m\u001b[0mappend\u001b[0m\u001b[1;33m(\u001b[0m\u001b[0mjob\u001b[0m\u001b[1;33m)\u001b[0m\u001b[1;33m\u001b[0m\u001b[0m\n\u001b[0;32m    590\u001b[0m \u001b[1;33m\u001b[0m\u001b[0m\n",
      "\u001b[1;32mC:\\Users\\frank\\Anaconda2\\lib\\site-packages\\sklearn\\externals\\joblib\\_parallel_backends.pyc\u001b[0m in \u001b[0;36mapply_async\u001b[1;34m(self, func, callback)\u001b[0m\n\u001b[0;32m    109\u001b[0m     \u001b[1;32mdef\u001b[0m \u001b[0mapply_async\u001b[0m\u001b[1;33m(\u001b[0m\u001b[0mself\u001b[0m\u001b[1;33m,\u001b[0m \u001b[0mfunc\u001b[0m\u001b[1;33m,\u001b[0m \u001b[0mcallback\u001b[0m\u001b[1;33m=\u001b[0m\u001b[0mNone\u001b[0m\u001b[1;33m)\u001b[0m\u001b[1;33m:\u001b[0m\u001b[1;33m\u001b[0m\u001b[0m\n\u001b[0;32m    110\u001b[0m         \u001b[1;34m\"\"\"Schedule a func to be run\"\"\"\u001b[0m\u001b[1;33m\u001b[0m\u001b[0m\n\u001b[1;32m--> 111\u001b[1;33m         \u001b[0mresult\u001b[0m \u001b[1;33m=\u001b[0m \u001b[0mImmediateResult\u001b[0m\u001b[1;33m(\u001b[0m\u001b[0mfunc\u001b[0m\u001b[1;33m)\u001b[0m\u001b[1;33m\u001b[0m\u001b[0m\n\u001b[0m\u001b[0;32m    112\u001b[0m         \u001b[1;32mif\u001b[0m \u001b[0mcallback\u001b[0m\u001b[1;33m:\u001b[0m\u001b[1;33m\u001b[0m\u001b[0m\n\u001b[0;32m    113\u001b[0m             \u001b[0mcallback\u001b[0m\u001b[1;33m(\u001b[0m\u001b[0mresult\u001b[0m\u001b[1;33m)\u001b[0m\u001b[1;33m\u001b[0m\u001b[0m\n",
      "\u001b[1;32mC:\\Users\\frank\\Anaconda2\\lib\\site-packages\\sklearn\\externals\\joblib\\_parallel_backends.pyc\u001b[0m in \u001b[0;36m__init__\u001b[1;34m(self, batch)\u001b[0m\n\u001b[0;32m    330\u001b[0m         \u001b[1;31m# Don't delay the application, to avoid keeping the input\u001b[0m\u001b[1;33m\u001b[0m\u001b[1;33m\u001b[0m\u001b[0m\n\u001b[0;32m    331\u001b[0m         \u001b[1;31m# arguments in memory\u001b[0m\u001b[1;33m\u001b[0m\u001b[1;33m\u001b[0m\u001b[0m\n\u001b[1;32m--> 332\u001b[1;33m         \u001b[0mself\u001b[0m\u001b[1;33m.\u001b[0m\u001b[0mresults\u001b[0m \u001b[1;33m=\u001b[0m \u001b[0mbatch\u001b[0m\u001b[1;33m(\u001b[0m\u001b[1;33m)\u001b[0m\u001b[1;33m\u001b[0m\u001b[0m\n\u001b[0m\u001b[0;32m    333\u001b[0m \u001b[1;33m\u001b[0m\u001b[0m\n\u001b[0;32m    334\u001b[0m     \u001b[1;32mdef\u001b[0m \u001b[0mget\u001b[0m\u001b[1;33m(\u001b[0m\u001b[0mself\u001b[0m\u001b[1;33m)\u001b[0m\u001b[1;33m:\u001b[0m\u001b[1;33m\u001b[0m\u001b[0m\n",
      "\u001b[1;32mC:\\Users\\frank\\Anaconda2\\lib\\site-packages\\sklearn\\externals\\joblib\\parallel.pyc\u001b[0m in \u001b[0;36m__call__\u001b[1;34m(self)\u001b[0m\n\u001b[0;32m    129\u001b[0m \u001b[1;33m\u001b[0m\u001b[0m\n\u001b[0;32m    130\u001b[0m     \u001b[1;32mdef\u001b[0m \u001b[0m__call__\u001b[0m\u001b[1;33m(\u001b[0m\u001b[0mself\u001b[0m\u001b[1;33m)\u001b[0m\u001b[1;33m:\u001b[0m\u001b[1;33m\u001b[0m\u001b[0m\n\u001b[1;32m--> 131\u001b[1;33m         \u001b[1;32mreturn\u001b[0m \u001b[1;33m[\u001b[0m\u001b[0mfunc\u001b[0m\u001b[1;33m(\u001b[0m\u001b[1;33m*\u001b[0m\u001b[0margs\u001b[0m\u001b[1;33m,\u001b[0m \u001b[1;33m**\u001b[0m\u001b[0mkwargs\u001b[0m\u001b[1;33m)\u001b[0m \u001b[1;32mfor\u001b[0m \u001b[0mfunc\u001b[0m\u001b[1;33m,\u001b[0m \u001b[0margs\u001b[0m\u001b[1;33m,\u001b[0m \u001b[0mkwargs\u001b[0m \u001b[1;32min\u001b[0m \u001b[0mself\u001b[0m\u001b[1;33m.\u001b[0m\u001b[0mitems\u001b[0m\u001b[1;33m]\u001b[0m\u001b[1;33m\u001b[0m\u001b[0m\n\u001b[0m\u001b[0;32m    132\u001b[0m \u001b[1;33m\u001b[0m\u001b[0m\n\u001b[0;32m    133\u001b[0m     \u001b[1;32mdef\u001b[0m \u001b[0m__len__\u001b[0m\u001b[1;33m(\u001b[0m\u001b[0mself\u001b[0m\u001b[1;33m)\u001b[0m\u001b[1;33m:\u001b[0m\u001b[1;33m\u001b[0m\u001b[0m\n",
      "\u001b[1;32mC:\\Users\\frank\\Anaconda2\\lib\\site-packages\\sklearn\\cross_validation.pyc\u001b[0m in \u001b[0;36m_fit_and_score\u001b[1;34m(estimator, X, y, scorer, train, test, verbose, parameters, fit_params, return_train_score, return_parameters, error_score)\u001b[0m\n\u001b[0;32m   1673\u001b[0m             \u001b[0mestimator\u001b[0m\u001b[1;33m.\u001b[0m\u001b[0mfit\u001b[0m\u001b[1;33m(\u001b[0m\u001b[0mX_train\u001b[0m\u001b[1;33m,\u001b[0m \u001b[1;33m**\u001b[0m\u001b[0mfit_params\u001b[0m\u001b[1;33m)\u001b[0m\u001b[1;33m\u001b[0m\u001b[0m\n\u001b[0;32m   1674\u001b[0m         \u001b[1;32melse\u001b[0m\u001b[1;33m:\u001b[0m\u001b[1;33m\u001b[0m\u001b[0m\n\u001b[1;32m-> 1675\u001b[1;33m             \u001b[0mestimator\u001b[0m\u001b[1;33m.\u001b[0m\u001b[0mfit\u001b[0m\u001b[1;33m(\u001b[0m\u001b[0mX_train\u001b[0m\u001b[1;33m,\u001b[0m \u001b[0my_train\u001b[0m\u001b[1;33m,\u001b[0m \u001b[1;33m**\u001b[0m\u001b[0mfit_params\u001b[0m\u001b[1;33m)\u001b[0m\u001b[1;33m\u001b[0m\u001b[0m\n\u001b[0m\u001b[0;32m   1676\u001b[0m \u001b[1;33m\u001b[0m\u001b[0m\n\u001b[0;32m   1677\u001b[0m     \u001b[1;32mexcept\u001b[0m \u001b[0mException\u001b[0m \u001b[1;32mas\u001b[0m \u001b[0me\u001b[0m\u001b[1;33m:\u001b[0m\u001b[1;33m\u001b[0m\u001b[0m\n",
      "\u001b[1;32mC:\\Users\\frank\\Anaconda2\\lib\\site-packages\\sklearn\\tree\\tree.pyc\u001b[0m in \u001b[0;36mfit\u001b[1;34m(self, X, y, sample_weight, check_input, X_idx_sorted)\u001b[0m\n\u001b[0;32m    788\u001b[0m             \u001b[0msample_weight\u001b[0m\u001b[1;33m=\u001b[0m\u001b[0msample_weight\u001b[0m\u001b[1;33m,\u001b[0m\u001b[1;33m\u001b[0m\u001b[0m\n\u001b[0;32m    789\u001b[0m             \u001b[0mcheck_input\u001b[0m\u001b[1;33m=\u001b[0m\u001b[0mcheck_input\u001b[0m\u001b[1;33m,\u001b[0m\u001b[1;33m\u001b[0m\u001b[0m\n\u001b[1;32m--> 790\u001b[1;33m             X_idx_sorted=X_idx_sorted)\n\u001b[0m\u001b[0;32m    791\u001b[0m         \u001b[1;32mreturn\u001b[0m \u001b[0mself\u001b[0m\u001b[1;33m\u001b[0m\u001b[0m\n\u001b[0;32m    792\u001b[0m \u001b[1;33m\u001b[0m\u001b[0m\n",
      "\u001b[1;32mC:\\Users\\frank\\Anaconda2\\lib\\site-packages\\sklearn\\tree\\tree.pyc\u001b[0m in \u001b[0;36mfit\u001b[1;34m(self, X, y, sample_weight, check_input, X_idx_sorted)\u001b[0m\n\u001b[0;32m    360\u001b[0m                                            min_impurity_split)\n\u001b[0;32m    361\u001b[0m \u001b[1;33m\u001b[0m\u001b[0m\n\u001b[1;32m--> 362\u001b[1;33m         \u001b[0mbuilder\u001b[0m\u001b[1;33m.\u001b[0m\u001b[0mbuild\u001b[0m\u001b[1;33m(\u001b[0m\u001b[0mself\u001b[0m\u001b[1;33m.\u001b[0m\u001b[0mtree_\u001b[0m\u001b[1;33m,\u001b[0m \u001b[0mX\u001b[0m\u001b[1;33m,\u001b[0m \u001b[0my\u001b[0m\u001b[1;33m,\u001b[0m \u001b[0msample_weight\u001b[0m\u001b[1;33m,\u001b[0m \u001b[0mX_idx_sorted\u001b[0m\u001b[1;33m)\u001b[0m\u001b[1;33m\u001b[0m\u001b[0m\n\u001b[0m\u001b[0;32m    363\u001b[0m \u001b[1;33m\u001b[0m\u001b[0m\n\u001b[0;32m    364\u001b[0m         \u001b[1;32mif\u001b[0m \u001b[0mself\u001b[0m\u001b[1;33m.\u001b[0m\u001b[0mn_outputs_\u001b[0m \u001b[1;33m==\u001b[0m \u001b[1;36m1\u001b[0m\u001b[1;33m:\u001b[0m\u001b[1;33m\u001b[0m\u001b[0m\n",
      "\u001b[1;31mKeyboardInterrupt\u001b[0m: "
     ]
    }
   ],
   "source": [
    "result_tree = np.mean(cross_val_score(clf_gini, X, y, cv=10, scoring=\"roc_auc\"))\n",
    "Print (result_tree)"
   ]
  },
  {
   "cell_type": "markdown",
   "metadata": {},
   "source": [
    "The AUC is 0.80769115892815968"
   ]
  },
  {
   "cell_type": "code",
   "execution_count": 146,
   "metadata": {
    "collapsed": false
   },
   "outputs": [
    {
     "data": {
      "text/plain": [
       "array([ 0.        ,  0.        ,  0.99007413,  0.        ,  0.00992587,\n",
       "        0.        ,  0.        ,  0.        ,  0.        ])"
      ]
     },
     "execution_count": 146,
     "metadata": {},
     "output_type": "execute_result"
    }
   ],
   "source": [
    "clf.feature_importances_"
   ]
  },
  {
   "cell_type": "markdown",
   "metadata": {},
   "source": [
    "The result implies the most important feature is company."
   ]
  },
  {
   "cell_type": "markdown",
   "metadata": {},
   "source": [
    "## 2. Random forest"
   ]
  },
  {
   "cell_type": "code",
   "execution_count": 165,
   "metadata": {
    "collapsed": false
   },
   "outputs": [],
   "source": [
    "clf = RandomForestClassifier(n_jobs=2, random_state=0)\n",
    "result_rf = np.mean(cross_val_score(clf, X, y, cv=10, scoring=\"roc_auc\"))"
   ]
  },
  {
   "cell_type": "markdown",
   "metadata": {},
   "source": [
    "The AUC is 0.75434656690566382"
   ]
  },
  {
   "cell_type": "code",
   "execution_count": null,
   "metadata": {
    "collapsed": false
   },
   "outputs": [],
   "source": [
    "clf_svm = svm.SVR()\n",
    "clf_svm.fit(X_train, y_train)\n",
    "sklearn.metrics.roc_auc_score(y_test,clf_svm.predict(X_test))"
   ]
  },
  {
   "cell_type": "markdown",
   "metadata": {},
   "source": [
    "Summary: the most important variable that influences Timely response is company. AUC of random forest and tree is 0.75 and 0.8 respectively"
   ]
  }
 ],
 "metadata": {
  "anaconda-cloud": {},
  "kernelspec": {
   "display_name": "Python [Root]",
   "language": "python",
   "name": "Python [Root]"
  },
  "language_info": {
   "codemirror_mode": {
    "name": "ipython",
    "version": 2
   },
   "file_extension": ".py",
   "mimetype": "text/x-python",
   "name": "python",
   "nbconvert_exporter": "python",
   "pygments_lexer": "ipython2",
   "version": "2.7.12"
  }
 },
 "nbformat": 4,
 "nbformat_minor": 0
}
